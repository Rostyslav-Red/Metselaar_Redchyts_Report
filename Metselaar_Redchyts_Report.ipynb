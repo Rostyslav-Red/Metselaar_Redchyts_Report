{
 "cells": [
  {
   "cell_type": "markdown",
   "metadata": {
    "id": "aSjLWKGaf8cX"
   },
   "source": [
    "Abstract:\n",
    "Hello, Niels!"
   ]
  },
  {
   "cell_type": "markdown",
   "metadata": {
    "id": "_rQxlhZZhMgU"
   },
   "source": [
    "Introduction:\n",
    "- Hypothesis\n"
   ]
  },
  {
   "cell_type": "markdown",
   "metadata": {
    "id": "lw3cNmFUhRiA"
   },
   "source": [
    "Dataset\n",
    "- Explanatory variables\n",
    "- Response variable"
   ]
  },
  {
   "cell_type": "markdown",
   "metadata": {},
   "source": [
    "next part"
   ]
  },
  {
   "cell_type": "markdown",
   "metadata": {
    "id": "O1t-PN0vhxuq"
   },
   "source": []
  }
 ],
 "metadata": {
  "colab": {
   "provenance": []
  },
  "kernelspec": {
   "display_name": "Python 3",
   "name": "python3"
  },
  "language_info": {
   "name": "python"
  }
 },
 "nbformat": 4,
 "nbformat_minor": 0
}
