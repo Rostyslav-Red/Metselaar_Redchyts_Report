{
  "nbformat": 4,
  "nbformat_minor": 0,
  "metadata": {
    "colab": {
      "provenance": []
    },
    "kernelspec": {
      "name": "python3",
      "display_name": "Python 3"
    },
    "language_info": {
      "name": "python"
    }
  },
  "cells": [
    {
      "cell_type": "markdown",
      "source": [
        "Abstract:"
      ],
      "metadata": {
        "id": "aSjLWKGaf8cX"
      }
    },
    {
      "cell_type": "markdown",
      "source": [
        "Introduction:\n",
        "- Hypothesis\n"
      ],
      "metadata": {
        "id": "_rQxlhZZhMgU"
      }
    },
    {
      "cell_type": "markdown",
      "source": [
        "Dataset\n",
        "- Explanatory variables\n",
        "- Response variable"
      ],
      "metadata": {
        "id": "lw3cNmFUhRiA"
      }
    },
    {
      "cell_type": "markdown",
      "source": [],
      "metadata": {
        "id": "O1t-PN0vhxuq"
      }
    }
  ]
}