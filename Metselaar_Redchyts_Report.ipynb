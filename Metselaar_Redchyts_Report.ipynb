{
  "cells": [
    {
      "cell_type": "markdown",
      "metadata": {
        "id": "aSjLWKGaf8cX"
      },
      "source": [
        "Abstract:\n",
        "Hello, Niels"
      ]
    },
    {
      "cell_type": "markdown",
      "metadata": {
        "id": "_rQxlhZZhMgU"
      },
      "source": [
        "Introduction:\n",
        "- Hypothesis\n"
      ]
    },
    {
      "cell_type": "markdown",
      "metadata": {
        "id": "lw3cNmFUhRiA"
      },
      "source": [
        "Dataset\n",
        "- cleaning the data\n",
        "- Explanatory variables (including normal distribution plot)\n",
        "- Response variable (including normal distribution plot and QQplot)\n"
      ]
    },
    {
      "cell_type": "markdown",
      "metadata": {},
      "source": [
        "model\n",
        "- fitting the data"
      ]
    },
    {
      "cell_type": "markdown",
      "metadata": {},
      "source": [
        "Checking results\n",
        "- Nearly normally distributed residuals\n",
        "- Nearly constant variability in the residuals\n",
        "- Independent residuals\n",
        "- Linear relation between predictor variables and outcome"
      ]
    },
    {
      "cell_type": "markdown",
      "metadata": {},
      "source": [
        "Conclusion / discussion\n",
        "- Findings\n",
        "- Limitations"
      ]
    },
    {
      "cell_type": "markdown",
      "metadata": {
        "id": "O1t-PN0vhxuq"
      },
      "source": []
    }
  ],
  "metadata": {
    "colab": {
      "provenance": []
    },
    "kernelspec": {
      "display_name": "Python 3",
      "name": "python3"
    },
    "language_info": {
      "name": "python"
    }
  },
  "nbformat": 4,
  "nbformat_minor": 0
}
