{
 "cells": [
  {
   "cell_type": "markdown",
   "metadata": {
    "id": "aSjLWKGaf8cX"
   },
   "source": [
    "Abstract\n",
    "\n",
    "write once the report is done"
   ]
  },
  {
   "cell_type": "markdown",
   "metadata": {
    "id": "_rQxlhZZhMgU"
   },
   "source": [
    "Introduction\n",
    "\n",
    "The housing market is an ever evolving field influenced by numerous factors at the same time. Predicting housing prices is an intricate task. The fluctuating prices are dependent on a variety of factors, ranging from objective property size to personal preferences. Some of these factors are; living space in square footage, number of floors in the house, view quality and house condition.\n",
    "By employing multiple regression analysis, we aim to quantify the relationship between housing prices and several key predictors. With this research we wish to increase clarity about property prices in the continuously changing housing market. Understanding what drives housing prices in this dynamic and complex region is not only of interest to homeowners and potential home buyers but also beneficial for policymakers and urban planners.\n",
    "\n",
    "Hypothesis\n",
    "\n",
    "H0 (Null Hypothesis): The number of bathrooms and bedrooms, living space square footage, lot area, basement presence, total area above ground, number of floors in the house, view quality,\n",
    "house condition, grade of the building’s construction and design, and the years since it was built do not predict housing prices.\n",
    "\n",
    "HA (Alternative Hypothesis): The number of bathrooms and bedrooms, living space square footage, lot area, basement presence, total area above ground, number of floors in the house,\n",
    "view quality, house condition, grade of the building’s construction and design, or the years since it was built can predict housing prices.\n"
   ]
  },
  {
   "cell_type": "markdown",
   "metadata": {
    "id": "lw3cNmFUhRiA"
   },
   "source": [
    "Data set\n",
    "\n",
    "The dataset that will be used for multiple regression was found on kaggle<sup>1</sup> and uploaded by the user harlfoxem. The data comes from the real estate markets in King County, Washington State, USA, for the years 2014-2015. The dataset consists of approximately 22,000 properties. These individual data points supposedly come from the official King County government website<sup>2</sup> and were later added together to form the dataset that will be used. We could not verify that the individual data points did indeed come from the government database due to functionality issues surrounding the official site. \n",
    "The dataset itself includes 18 rows. 6 rows will immediately be excluded as these do not contribute to multiple regression analysis. These rows are; date, waterfront, street, city, statezip and country. The rows that have been included are:\n",
    "- price\n",
    "- bedrooms\n",
    "- bathrooms\n",
    "- sqft_living = square feet of inside space\n",
    "- sqft_lot = square feet of outside space\n",
    "- floors\n",
    "- view\n",
    "- condition\n",
    "- sqft_above = square feet above ground\n",
    "- sqft_basement = square feet of basement\n",
    "- yr_built = year built\n",
    "- yr_renovated = year renovated\n",
    "\n",
    "The dataset does not contain any missing values. \n",
    "\n",
    "Population\n",
    "\n",
    "With the sample of housing prices in the state of Washington, will attempt to generalize our findings to the population of all housing properties in the USA for the years 2014-2015. The total number of housing units in the USA in 2014 was approximately 134.32 million. This number includes apartments, which are missing from our dataset. Therefore, the exact number of houses is difficult to estimate.\n",
    "\n"
   ]
  },
  {
   "cell_type": "markdown",
   "metadata": {},
   "source": [
    "Imports and Uploading The Dataset"
   ]
  },
  {
   "cell_type": "code",
   "execution_count": 1,
   "metadata": {},
   "outputs": [
    {
     "ename": "ModuleNotFoundError",
     "evalue": "No module named 'pandas'",
     "output_type": "error",
     "traceback": [
      "\u001b[1;31m---------------------------------------------------------------------------\u001b[0m",
      "\u001b[1;31mModuleNotFoundError\u001b[0m                       Traceback (most recent call last)",
      "Cell \u001b[1;32mIn[1], line 1\u001b[0m\n\u001b[1;32m----> 1\u001b[0m \u001b[38;5;28;01mimport\u001b[39;00m \u001b[38;5;21;01mpandas\u001b[39;00m \u001b[38;5;28;01mas\u001b[39;00m \u001b[38;5;21;01mpd\u001b[39;00m\n\u001b[0;32m      2\u001b[0m \u001b[38;5;28;01mimport\u001b[39;00m \u001b[38;5;21;01mnumpy\u001b[39;00m \u001b[38;5;28;01mas\u001b[39;00m \u001b[38;5;21;01mnp\u001b[39;00m\n\u001b[0;32m      3\u001b[0m \u001b[38;5;28;01mimport\u001b[39;00m \u001b[38;5;21;01mmatplotlib\u001b[39;00m\u001b[38;5;21;01m.\u001b[39;00m\u001b[38;5;21;01mpyplot\u001b[39;00m \u001b[38;5;28;01mas\u001b[39;00m \u001b[38;5;21;01mplt\u001b[39;00m\n",
      "\u001b[1;31mModuleNotFoundError\u001b[0m: No module named 'pandas'"
     ]
    }
   ],
   "source": [
    "import pandas as pd\n",
    "import numpy as np\n",
    "import matplotlib.pyplot as plt\n",
    "import seaborn as sns\n",
    "import statsmodels.api as sm\n",
    "from scipy.stats import probplot\n",
    "\n",
    "sns.set_style(\"whitegrid\")\n",
    "\n",
    "houseData = pd.read_csv('Rostyslav_Redchyts-Niels_Metselaar-data.csv') #the name of the dataset will be houseData"
   ]
  },
  {
   "cell_type": "markdown",
   "metadata": {},
   "source": [
    "Response Variable\n",
    "\n",
    "The response variable that will be investigated for this research is price. Price is a continuous variable spanning from 0 to infinity. The price range for this dataset ranges between 0 and 8 million US dollars. The distribution of the response variable is generated in the distribution of housing prices plot below. To further analyse the normality of the distribution a QQ plot is also generated. If the data distribution follows the diagonal line in the plot, it suggests that the data is normally distributed.\n",
    "\n",
    "To account for the non-normal distribution of the data(as seen in the first plot) a log transformation has been applied to the price variable. Taking the log of the data ensures that the distribution will be more symmetric by stabilizing the variance across the range of values. The data will now resemble a normal distribution."
   ]
  },
  {
   "cell_type": "code",
   "execution_count": null,
   "metadata": {},
   "outputs": [],
   "source": [
    "#checking normality of response variable\n",
    "sns.displot(houseData['log_price'], bins=50)\n",
    "plt.title('The distribution of housing prices')\n",
    "plt.show() \n",
    "\n",
    "#log transformation\n",
    "houseData['log_price'] = np.log(houseData['price'])\n",
    "\n",
    "#checking normality of response variable after log transformation\n",
    "sm.qqplot(houseData['log_price'], line='s')\n",
    "plt.title('QQ plot price distribution')\n",
    "plt.show()\n",
    "\n",
    "sns.displot(houseData['log_price'], bins=50)\n",
    "plt.title('The distribution of housing prices')\n",
    "plt.show()\n"
   ]
  },
  {
   "cell_type": "markdown",
   "metadata": {},
   "source": [
    "Explanatory variables\n",
    "\n"
   ]
  },
  {
   "cell_type": "markdown",
   "metadata": {
    "id": "O1t-PN0vhxuq"
   },
   "source": [
    "References\n",
    "<div style=\"font-size: 80%; margin-top: 0.5em;\">1. https://www.kaggle.com/datasets/harlfoxem/housesalesprediction/data. </div>\n",
    "<div style=\"font-size: 80%; margin-top: 0.5em;\">1. https://kingcounty.gov/. </div>\n",
    "\n"
   ]
  }
 ],
 "metadata": {
  "colab": {
   "provenance": []
  },
  "kernelspec": {
   "display_name": "Python 3",
   "name": "python3"
  },
  "language_info": {
   "codemirror_mode": {
    "name": "ipython",
    "version": 3
   },
   "file_extension": ".py",
   "mimetype": "text/x-python",
   "name": "python",
   "nbconvert_exporter": "python",
   "pygments_lexer": "ipython3",
   "version": "3.12.0"
  }
 },
 "nbformat": 4,
 "nbformat_minor": 0
}
